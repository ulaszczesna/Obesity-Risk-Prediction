{
 "cells": [
  {
   "cell_type": "markdown",
   "id": "fdd9b3af",
   "metadata": {},
   "source": [
    "## 1. Libraries and data"
   ]
  },
  {
   "cell_type": "code",
   "execution_count": 1,
   "id": "cb5f598d",
   "metadata": {},
   "outputs": [],
   "source": [
    "import pandas as pd\n",
    "import numpy as np\n",
    "import seaborn as sns\n",
    "import matplotlib.pyplot as plt\n",
    "from sklearn.pipeline import Pipeline\n",
    "from sklearn.compose import ColumnTransformer\n",
    "from sklearn.preprocessing import FunctionTransformer\n",
    "from xgboost import XGBClassifier\n",
    "from sklearn.metrics import classification_report, confusion_matrix\n",
    "from sklearn.model_selection import GridSearchCV\n",
    "from sklearn.ensemble import RandomForestClassifier, GradientBoostingClassifier\n",
    "from sklearn.svm import SVC"
   ]
  },
  {
   "cell_type": "code",
   "execution_count": 23,
   "id": "eb303ab1",
   "metadata": {},
   "outputs": [],
   "source": [
    "train = pd.read_csv('Data/our_train.csv')\n",
    "test = pd.read_csv('Data/our_test.csv')\n",
    "val = pd.read_csv('Data/our_val.csv')"
   ]
  },
  {
   "cell_type": "code",
   "execution_count": 24,
   "id": "f78a61c8",
   "metadata": {},
   "outputs": [],
   "source": [
    "X_train = train.drop('NObeyesdad', axis=1)\n",
    "y_train = train['NObeyesdad']\n",
    "X_test = test.drop('NObeyesdad', axis=1)\n",
    "y_test = test['NObeyesdad']\n",
    "X_val = val.drop('NObeyesdad', axis=1)\n",
    "y_val = val['NObeyesdad']"
   ]
  },
  {
   "cell_type": "code",
   "execution_count": 25,
   "id": "16ed663f",
   "metadata": {},
   "outputs": [],
   "source": [
    "CAEC_dict = {'no': 0, 'Sometimes': 0.33, 'Frequently': 0.66, 'Always': 1 }\n",
    "CALC_dict = {'no': 0, 'Sometimes': 0.5, 'Frequently': 1}"
   ]
  },
  {
   "cell_type": "code",
   "execution_count": 26,
   "id": "87f1b1c0",
   "metadata": {},
   "outputs": [],
   "source": [
    "X_train['CAEC'] = X_train['CAEC'].map(CAEC_dict)\n",
    "X_train['CALC'] = X_train['CALC'].map(CALC_dict)\n",
    "X_test['CAEC'] = X_test['CAEC'].map(CAEC_dict)\n",
    "X_test['CALC'] = X_test['CALC'].map(CALC_dict)\n",
    "X_val['CAEC'] = X_val['CAEC'].map(CAEC_dict)\n",
    "X_val['CALC'] = X_val['CALC'].map(CALC_dict)"
   ]
  },
  {
   "cell_type": "code",
   "execution_count": 27,
   "id": "69348b2f",
   "metadata": {},
   "outputs": [],
   "source": [
    "cat_cols2 = ['Gender', 'family_history_with_overweight', 'FAVC', 'SMOKE', 'SCC', 'MTRANS']"
   ]
  },
  {
   "cell_type": "markdown",
   "id": "46abade6",
   "metadata": {},
   "source": [
    "## 2. New features\n",
    "Let's create new feature - BMI index."
   ]
  },
  {
   "cell_type": "code",
   "execution_count": 28,
   "id": "9bc0b035",
   "metadata": {},
   "outputs": [],
   "source": [
    "def calculate_bmi(data):\n",
    "    data['BMI'] = data['Weight'] / (data['Height'] ** 2)\n",
    "    return data.drop(['Weight', 'Height', 'id'], axis=1)"
   ]
  },
  {
   "cell_type": "code",
   "execution_count": 29,
   "id": "3dbe0be1",
   "metadata": {},
   "outputs": [],
   "source": [
    "pipeline = Pipeline([\n",
    "    ('calculate_bmi', FunctionTransformer(calculate_bmi)),\n",
    "])"
   ]
  },
  {
   "cell_type": "code",
   "execution_count": 30,
   "id": "9603dd39",
   "metadata": {},
   "outputs": [],
   "source": [
    "# creating a new column bmi \n",
    "X_train = pipeline.fit_transform(X_train)\n",
    "X_test = pipeline.transform(X_test)\n",
    "X_val = pipeline.transform(X_val)"
   ]
  },
  {
   "cell_type": "code",
   "execution_count": 31,
   "id": "b23ae849",
   "metadata": {},
   "outputs": [
    {
     "data": {
      "text/html": [
       "<div>\n",
       "<style scoped>\n",
       "    .dataframe tbody tr th:only-of-type {\n",
       "        vertical-align: middle;\n",
       "    }\n",
       "\n",
       "    .dataframe tbody tr th {\n",
       "        vertical-align: top;\n",
       "    }\n",
       "\n",
       "    .dataframe thead th {\n",
       "        text-align: right;\n",
       "    }\n",
       "</style>\n",
       "<table border=\"1\" class=\"dataframe\">\n",
       "  <thead>\n",
       "    <tr style=\"text-align: right;\">\n",
       "      <th></th>\n",
       "      <th>Gender</th>\n",
       "      <th>Age</th>\n",
       "      <th>family_history_with_overweight</th>\n",
       "      <th>FAVC</th>\n",
       "      <th>FCVC</th>\n",
       "      <th>NCP</th>\n",
       "      <th>CAEC</th>\n",
       "      <th>SMOKE</th>\n",
       "      <th>CH2O</th>\n",
       "      <th>SCC</th>\n",
       "      <th>FAF</th>\n",
       "      <th>TUE</th>\n",
       "      <th>CALC</th>\n",
       "      <th>MTRANS</th>\n",
       "      <th>BMI</th>\n",
       "    </tr>\n",
       "  </thead>\n",
       "  <tbody>\n",
       "    <tr>\n",
       "      <th>0</th>\n",
       "      <td>Male</td>\n",
       "      <td>32.000000</td>\n",
       "      <td>yes</td>\n",
       "      <td>no</td>\n",
       "      <td>2.000000</td>\n",
       "      <td>3.000000</td>\n",
       "      <td>0.33</td>\n",
       "      <td>no</td>\n",
       "      <td>1.000000</td>\n",
       "      <td>no</td>\n",
       "      <td>0.000000</td>\n",
       "      <td>2.000000</td>\n",
       "      <td>0.5</td>\n",
       "      <td>Automobile</td>\n",
       "      <td>39.183673</td>\n",
       "    </tr>\n",
       "    <tr>\n",
       "      <th>1</th>\n",
       "      <td>Female</td>\n",
       "      <td>19.783234</td>\n",
       "      <td>yes</td>\n",
       "      <td>yes</td>\n",
       "      <td>3.000000</td>\n",
       "      <td>3.000000</td>\n",
       "      <td>0.33</td>\n",
       "      <td>no</td>\n",
       "      <td>2.835622</td>\n",
       "      <td>no</td>\n",
       "      <td>1.655488</td>\n",
       "      <td>0.816986</td>\n",
       "      <td>0.5</td>\n",
       "      <td>Public_Transportation</td>\n",
       "      <td>40.325664</td>\n",
       "    </tr>\n",
       "    <tr>\n",
       "      <th>2</th>\n",
       "      <td>Male</td>\n",
       "      <td>21.793724</td>\n",
       "      <td>yes</td>\n",
       "      <td>yes</td>\n",
       "      <td>2.921225</td>\n",
       "      <td>2.983201</td>\n",
       "      <td>0.33</td>\n",
       "      <td>no</td>\n",
       "      <td>2.184843</td>\n",
       "      <td>no</td>\n",
       "      <td>2.164472</td>\n",
       "      <td>0.000000</td>\n",
       "      <td>0.5</td>\n",
       "      <td>Public_Transportation</td>\n",
       "      <td>28.499889</td>\n",
       "    </tr>\n",
       "    <tr>\n",
       "      <th>3</th>\n",
       "      <td>Female</td>\n",
       "      <td>21.000000</td>\n",
       "      <td>yes</td>\n",
       "      <td>yes</td>\n",
       "      <td>2.000000</td>\n",
       "      <td>3.000000</td>\n",
       "      <td>0.33</td>\n",
       "      <td>no</td>\n",
       "      <td>2.000000</td>\n",
       "      <td>no</td>\n",
       "      <td>1.000000</td>\n",
       "      <td>2.000000</td>\n",
       "      <td>0.5</td>\n",
       "      <td>Public_Transportation</td>\n",
       "      <td>23.665244</td>\n",
       "    </tr>\n",
       "    <tr>\n",
       "      <th>4</th>\n",
       "      <td>Female</td>\n",
       "      <td>25.470652</td>\n",
       "      <td>yes</td>\n",
       "      <td>yes</td>\n",
       "      <td>3.000000</td>\n",
       "      <td>3.000000</td>\n",
       "      <td>0.33</td>\n",
       "      <td>no</td>\n",
       "      <td>2.554007</td>\n",
       "      <td>no</td>\n",
       "      <td>0.025787</td>\n",
       "      <td>0.484165</td>\n",
       "      <td>0.5</td>\n",
       "      <td>Public_Transportation</td>\n",
       "      <td>40.504193</td>\n",
       "    </tr>\n",
       "    <tr>\n",
       "      <th>...</th>\n",
       "      <td>...</td>\n",
       "      <td>...</td>\n",
       "      <td>...</td>\n",
       "      <td>...</td>\n",
       "      <td>...</td>\n",
       "      <td>...</td>\n",
       "      <td>...</td>\n",
       "      <td>...</td>\n",
       "      <td>...</td>\n",
       "      <td>...</td>\n",
       "      <td>...</td>\n",
       "      <td>...</td>\n",
       "      <td>...</td>\n",
       "      <td>...</td>\n",
       "      <td>...</td>\n",
       "    </tr>\n",
       "    <tr>\n",
       "      <th>14525</th>\n",
       "      <td>Female</td>\n",
       "      <td>18.000000</td>\n",
       "      <td>yes</td>\n",
       "      <td>yes</td>\n",
       "      <td>2.628791</td>\n",
       "      <td>2.562895</td>\n",
       "      <td>0.33</td>\n",
       "      <td>no</td>\n",
       "      <td>1.844645</td>\n",
       "      <td>no</td>\n",
       "      <td>0.288032</td>\n",
       "      <td>0.722276</td>\n",
       "      <td>0.0</td>\n",
       "      <td>Public_Transportation</td>\n",
       "      <td>27.113666</td>\n",
       "    </tr>\n",
       "    <tr>\n",
       "      <th>14526</th>\n",
       "      <td>Male</td>\n",
       "      <td>22.000000</td>\n",
       "      <td>yes</td>\n",
       "      <td>no</td>\n",
       "      <td>3.000000</td>\n",
       "      <td>3.000000</td>\n",
       "      <td>0.33</td>\n",
       "      <td>no</td>\n",
       "      <td>2.000000</td>\n",
       "      <td>no</td>\n",
       "      <td>3.000000</td>\n",
       "      <td>0.000000</td>\n",
       "      <td>0.5</td>\n",
       "      <td>Public_Transportation</td>\n",
       "      <td>31.020408</td>\n",
       "    </tr>\n",
       "    <tr>\n",
       "      <th>14527</th>\n",
       "      <td>Male</td>\n",
       "      <td>21.000000</td>\n",
       "      <td>no</td>\n",
       "      <td>yes</td>\n",
       "      <td>2.000000</td>\n",
       "      <td>3.000000</td>\n",
       "      <td>1.00</td>\n",
       "      <td>no</td>\n",
       "      <td>3.000000</td>\n",
       "      <td>no</td>\n",
       "      <td>2.000000</td>\n",
       "      <td>0.000000</td>\n",
       "      <td>0.5</td>\n",
       "      <td>Public_Transportation</td>\n",
       "      <td>25.910684</td>\n",
       "    </tr>\n",
       "    <tr>\n",
       "      <th>14528</th>\n",
       "      <td>Female</td>\n",
       "      <td>26.000000</td>\n",
       "      <td>yes</td>\n",
       "      <td>yes</td>\n",
       "      <td>3.000000</td>\n",
       "      <td>3.000000</td>\n",
       "      <td>0.33</td>\n",
       "      <td>no</td>\n",
       "      <td>2.770732</td>\n",
       "      <td>no</td>\n",
       "      <td>0.000000</td>\n",
       "      <td>0.237307</td>\n",
       "      <td>0.5</td>\n",
       "      <td>Public_Transportation</td>\n",
       "      <td>41.110271</td>\n",
       "    </tr>\n",
       "    <tr>\n",
       "      <th>14529</th>\n",
       "      <td>Male</td>\n",
       "      <td>37.997912</td>\n",
       "      <td>yes</td>\n",
       "      <td>yes</td>\n",
       "      <td>2.964419</td>\n",
       "      <td>2.902766</td>\n",
       "      <td>0.33</td>\n",
       "      <td>no</td>\n",
       "      <td>2.745242</td>\n",
       "      <td>no</td>\n",
       "      <td>2.545707</td>\n",
       "      <td>0.000000</td>\n",
       "      <td>0.5</td>\n",
       "      <td>Automobile</td>\n",
       "      <td>34.304429</td>\n",
       "    </tr>\n",
       "  </tbody>\n",
       "</table>\n",
       "<p>14530 rows × 15 columns</p>\n",
       "</div>"
      ],
      "text/plain": [
       "       Gender        Age family_history_with_overweight FAVC      FCVC  \\\n",
       "0        Male  32.000000                            yes   no  2.000000   \n",
       "1      Female  19.783234                            yes  yes  3.000000   \n",
       "2        Male  21.793724                            yes  yes  2.921225   \n",
       "3      Female  21.000000                            yes  yes  2.000000   \n",
       "4      Female  25.470652                            yes  yes  3.000000   \n",
       "...       ...        ...                            ...  ...       ...   \n",
       "14525  Female  18.000000                            yes  yes  2.628791   \n",
       "14526    Male  22.000000                            yes   no  3.000000   \n",
       "14527    Male  21.000000                             no  yes  2.000000   \n",
       "14528  Female  26.000000                            yes  yes  3.000000   \n",
       "14529    Male  37.997912                            yes  yes  2.964419   \n",
       "\n",
       "            NCP  CAEC SMOKE      CH2O SCC       FAF       TUE  CALC  \\\n",
       "0      3.000000  0.33    no  1.000000  no  0.000000  2.000000   0.5   \n",
       "1      3.000000  0.33    no  2.835622  no  1.655488  0.816986   0.5   \n",
       "2      2.983201  0.33    no  2.184843  no  2.164472  0.000000   0.5   \n",
       "3      3.000000  0.33    no  2.000000  no  1.000000  2.000000   0.5   \n",
       "4      3.000000  0.33    no  2.554007  no  0.025787  0.484165   0.5   \n",
       "...         ...   ...   ...       ...  ..       ...       ...   ...   \n",
       "14525  2.562895  0.33    no  1.844645  no  0.288032  0.722276   0.0   \n",
       "14526  3.000000  0.33    no  2.000000  no  3.000000  0.000000   0.5   \n",
       "14527  3.000000  1.00    no  3.000000  no  2.000000  0.000000   0.5   \n",
       "14528  3.000000  0.33    no  2.770732  no  0.000000  0.237307   0.5   \n",
       "14529  2.902766  0.33    no  2.745242  no  2.545707  0.000000   0.5   \n",
       "\n",
       "                      MTRANS        BMI  \n",
       "0                 Automobile  39.183673  \n",
       "1      Public_Transportation  40.325664  \n",
       "2      Public_Transportation  28.499889  \n",
       "3      Public_Transportation  23.665244  \n",
       "4      Public_Transportation  40.504193  \n",
       "...                      ...        ...  \n",
       "14525  Public_Transportation  27.113666  \n",
       "14526  Public_Transportation  31.020408  \n",
       "14527  Public_Transportation  25.910684  \n",
       "14528  Public_Transportation  41.110271  \n",
       "14529             Automobile  34.304429  \n",
       "\n",
       "[14530 rows x 15 columns]"
      ]
     },
     "execution_count": 31,
     "metadata": {},
     "output_type": "execute_result"
    }
   ],
   "source": [
    "X_train"
   ]
  },
  {
   "cell_type": "code",
   "execution_count": 32,
   "id": "dc68c342",
   "metadata": {},
   "outputs": [
    {
     "data": {
      "text/plain": [
       "Index(['Gender', 'Age', 'family_history_with_overweight', 'FAVC', 'FCVC',\n",
       "       'NCP', 'CAEC', 'SMOKE', 'CH2O', 'SCC', 'FAF', 'TUE', 'CALC', 'MTRANS',\n",
       "       'BMI'],\n",
       "      dtype='object')"
      ]
     },
     "execution_count": 32,
     "metadata": {},
     "output_type": "execute_result"
    }
   ],
   "source": [
    "X_train.columns"
   ]
  },
  {
   "cell_type": "code",
   "execution_count": 33,
   "id": "2d0d5c0a",
   "metadata": {},
   "outputs": [],
   "source": [
    "cols_numerical = [ 'Gender', 'Age', 'family_history_with_overweight', 'FAVC', 'FCVC',\n",
    "       'NCP', 'CAEC', 'SMOKE', 'CH2O', 'SCC', 'FAF', 'TUE', 'CALC', 'MTRANS',\n",
    "       'BMI']"
   ]
  },
  {
   "cell_type": "code",
   "execution_count": 34,
   "id": "0eb3cac6",
   "metadata": {},
   "outputs": [],
   "source": [
    "#change categorical columns to numerical\n",
    "from sklearn.preprocessing import LabelEncoder\n",
    "le = LabelEncoder()\n",
    "for col in cat_cols2:\n",
    "    X_train[col] = le.fit_transform(X_train[col])\n",
    "    X_test[col] = le.fit_transform(X_test[col])\n",
    "    X_val[col] = le.fit_transform(X_val[col])\n",
    "\n",
    "y_train = le.fit_transform(y_train)\n",
    "y_test = le.fit_transform(y_test)\n",
    "y_val = le.fit_transform(y_val)"
   ]
  },
  {
   "cell_type": "markdown",
   "id": "d89ea42d",
   "metadata": {},
   "source": [
    "Before normalization let's take a look at variance of features."
   ]
  },
  {
   "cell_type": "code",
   "execution_count": 35,
   "id": "366e4f4d",
   "metadata": {},
   "outputs": [
    {
     "data": {
      "text/plain": [
       "Gender                             0.250013\n",
       "Age                               32.842358\n",
       "family_history_with_overweight     0.146931\n",
       "FAVC                               0.079089\n",
       "FCVC                               0.284201\n",
       "NCP                                0.492681\n",
       "CAEC                               0.022627\n",
       "SMOKE                              0.011765\n",
       "CH2O                               0.367794\n",
       "SCC                                0.032845\n",
       "FAF                                0.707664\n",
       "TUE                                0.365470\n",
       "CALC                               0.055946\n",
       "MTRANS                             1.325107\n",
       "BMI                               69.468236\n",
       "dtype: float64"
      ]
     },
     "execution_count": 35,
     "metadata": {},
     "output_type": "execute_result"
    }
   ],
   "source": [
    "X_train.var()"
   ]
  },
  {
   "cell_type": "markdown",
   "id": "b901775a",
   "metadata": {},
   "source": [
    "There are no features with variance equal to 0. No need to cross them out."
   ]
  },
  {
   "cell_type": "code",
   "execution_count": 36,
   "id": "8cfe82b9",
   "metadata": {},
   "outputs": [],
   "source": [
    "from sklearn.preprocessing import StandardScaler\n",
    "scaler = StandardScaler()\n",
    "X_train = scaler.fit_transform(X_train)\n",
    "X_test = scaler.transform(X_test)\n",
    "X_val = scaler.transform(X_val)"
   ]
  },
  {
   "cell_type": "code",
   "execution_count": 37,
   "id": "c1853716",
   "metadata": {},
   "outputs": [],
   "source": [
    "X_train = pd.DataFrame(X_train, columns=cols_numerical)\n",
    "X_test = pd.DataFrame(X_test, columns=cols_numerical)\n",
    "X_val = pd.DataFrame(X_val, columns=cols_numerical)"
   ]
  },
  {
   "cell_type": "code",
   "execution_count": 38,
   "id": "3f306453",
   "metadata": {},
   "outputs": [],
   "source": [
    "y_val = pd.DataFrame(y_val, columns=['NObeyesdad'])\n",
    "y_train = pd.DataFrame(y_train, columns=['NObeyesdad'])\n",
    "y_test = pd.DataFrame(y_test, columns=['NObeyesdad'])"
   ]
  },
  {
   "cell_type": "code",
   "execution_count": 39,
   "id": "3b86372a",
   "metadata": {},
   "outputs": [],
   "source": [
    "train_with_BMI = pd.concat([X_train, y_train], axis=1)\n",
    "test_with_BMI = pd.concat([X_test, y_test], axis=1)\n",
    "val_with_BMI = pd.concat([X_val, y_val], axis=1)"
   ]
  },
  {
   "cell_type": "code",
   "execution_count": 40,
   "id": "d4fc446f",
   "metadata": {},
   "outputs": [],
   "source": [
    "train_with_BMI.to_csv('Data/train_with_BMI.csv', index=False)\n",
    "test_with_BMI.to_csv('Data/test_with_BMI.csv', index=False)\n",
    "val_with_BMI.to_csv('Data/val_with_BMI.csv', index=False)"
   ]
  },
  {
   "cell_type": "markdown",
   "id": "17c8f3cf",
   "metadata": {},
   "source": [
    "## 3. Feature imporatance\n",
    "### 3.1. Random forest classifier feature importance score."
   ]
  },
  {
   "cell_type": "code",
   "execution_count": 17,
   "id": "735691b4",
   "metadata": {},
   "outputs": [
    {
     "name": "stdout",
     "output_type": "stream",
     "text": [
      "Top Features:\n",
      "                           Feature  Importance\n",
      "14                             BMI    0.430758\n",
      "1                              Age    0.112101\n",
      "4                             FCVC    0.090918\n",
      "0                           Gender    0.055327\n",
      "11                             TUE    0.053261\n",
      "8                             CH2O    0.051638\n",
      "10                             FAF    0.048412\n",
      "5                              NCP    0.036248\n",
      "2   family_history_with_overweight    0.030544\n",
      "6                             CAEC    0.027865\n",
      "12                            CALC    0.026398\n",
      "13                          MTRANS    0.016942\n"
     ]
    }
   ],
   "source": [
    "import pandas as pd\n",
    "from sklearn.ensemble import RandomForestClassifier\n",
    "\n",
    "\n",
    "rf_classifier = RandomForestClassifier(n_estimators=300, random_state=42)\n",
    "\n",
    "# Fit the classifier to your training data\n",
    "rf_classifier.fit(X_train, y_train)\n",
    "\n",
    "# Get feature importances\n",
    "feature_importances = rf_classifier.feature_importances_\n",
    "\n",
    "# Create a DataFrame to store feature importances\n",
    "feature_importance_df = pd.DataFrame({\n",
    "    'Feature': X_train.columns,\n",
    "    'Importance': feature_importances\n",
    "})\n",
    "\n",
    "# Sort features by importance\n",
    "feature_importance_df = feature_importance_df.sort_values(by='Importance', ascending=False)\n",
    "\n",
    "# Print the top features\n",
    "print(\"Top Features:\")\n",
    "print(feature_importance_df.head(12))\n"
   ]
  },
  {
   "cell_type": "markdown",
   "id": "ac472027",
   "metadata": {},
   "source": [
    "### 3.2. XGBoost Classifier feature importance score"
   ]
  },
  {
   "cell_type": "code",
   "execution_count": 18,
   "id": "de9b6a83",
   "metadata": {},
   "outputs": [
    {
     "name": "stdout",
     "output_type": "stream",
     "text": [
      "Top Features:\n",
      "                           Feature  Importance\n",
      "0                           Gender    0.322387\n",
      "14                             BMI    0.285097\n",
      "3                             FAVC    0.046712\n",
      "4                             FCVC    0.042683\n",
      "9                              SCC    0.034447\n",
      "12                            CALC    0.032058\n",
      "13                          MTRANS    0.030184\n",
      "1                              Age    0.029991\n",
      "5                              NCP    0.029507\n",
      "2   family_history_with_overweight    0.028606\n",
      "8                             CH2O    0.026450\n",
      "6                             CAEC    0.026385\n",
      "11                             TUE    0.023658\n",
      "10                             FAF    0.021324\n",
      "7                            SMOKE    0.020512\n"
     ]
    }
   ],
   "source": [
    "import pandas as pd\n",
    "import xgboost as xgb\n",
    "\n",
    "\n",
    "# Initialize XGBoost classifier\n",
    "xgb_classifier = xgb.XGBClassifier(random_state=42, learning_rate= 0.1, n_estimators = 600)\n",
    "\n",
    "# Fit the classifier to your training data\n",
    "xgb_classifier.fit(X_train, y_train)\n",
    "\n",
    "# Get feature importances\n",
    "feature_importances = xgb_classifier.feature_importances_\n",
    "\n",
    "# Create a DataFrame to store feature importances\n",
    "feature_importance_df = pd.DataFrame({\n",
    "    'Feature': X_train.columns,\n",
    "    'Importance': feature_importances\n",
    "})\n",
    "\n",
    "# Sort features by importance\n",
    "feature_importance_df = feature_importance_df.sort_values(by='Importance', ascending=False)\n",
    "\n",
    "# Print the top features\n",
    "print(\"Top Features:\")\n",
    "print(feature_importance_df.head(15))\n"
   ]
  },
  {
   "cell_type": "markdown",
   "id": "6700d4d3",
   "metadata": {},
   "source": [
    "### 3.3. Gini score"
   ]
  },
  {
   "cell_type": "code",
   "execution_count": 52,
   "id": "784de142",
   "metadata": {},
   "outputs": [
    {
     "name": "stdout",
     "output_type": "stream",
     "text": [
      "Top Features:\n",
      "                           Feature  Importance\n",
      "14                             BMI    0.696627\n",
      "0                           Gender    0.068970\n",
      "1                              Age    0.057954\n",
      "4                             FCVC    0.030411\n",
      "8                             CH2O    0.026238\n",
      "10                             FAF    0.025781\n",
      "11                             TUE    0.021122\n",
      "5                              NCP    0.020138\n",
      "12                            CALC    0.012678\n",
      "6                             CAEC    0.010555\n",
      "3                             FAVC    0.009303\n",
      "13                          MTRANS    0.008227\n",
      "2   family_history_with_overweight    0.007430\n",
      "9                              SCC    0.003753\n",
      "7                            SMOKE    0.000813\n"
     ]
    }
   ],
   "source": [
    "from sklearn.tree import DecisionTreeClassifier\n",
    "clf = DecisionTreeClassifier(criterion='gini', random_state=42)\n",
    "clf.fit(X_train, y_train)\n",
    "\n",
    "feature_importances = clf.feature_importances_\n",
    "\n",
    "# Create a DataFrame to store feature importances\n",
    "feature_importance_df = pd.DataFrame({\n",
    "    'Feature': X_train.columns,\n",
    "    'Importance': feature_importances\n",
    "})\n",
    "\n",
    "# Sort features by importance\n",
    "feature_importance_df = feature_importance_df.sort_values(by='Importance', ascending=False)\n",
    "\n",
    "# Print the top features\n",
    "print(\"Top Features:\")\n",
    "print(feature_importance_df.head(15))"
   ]
  },
  {
   "cell_type": "markdown",
   "id": "09e1890d",
   "metadata": {},
   "source": [
    "Similarily to XGB, Gini recognizes BMI and Gender as the most important features in our model. Since only 3 features have Gini >= 0.05, we will cross out the last feature only."
   ]
  },
  {
   "cell_type": "markdown",
   "id": "add8cc83",
   "metadata": {},
   "source": [
    "## 4. Selected features "
   ]
  },
  {
   "cell_type": "code",
   "execution_count": 19,
   "id": "b5838bc3",
   "metadata": {},
   "outputs": [],
   "source": [
    "selected_features = [\n",
    "    'Gender', \n",
    "    'BMI', \n",
    "    'FCVC', \n",
    "    'FAVC',\n",
    "    'SCC',\n",
    "    'CALC',\n",
    "    'MTRANS',\n",
    "    'Age',\n",
    "    'family_history_with_overweight',\n",
    "    'FAF',\n",
    "    'NCP'\n",
    "]"
   ]
  },
  {
   "cell_type": "code",
   "execution_count": 20,
   "id": "6841b203",
   "metadata": {},
   "outputs": [],
   "source": [
    "X_train_selected = X_train[selected_features]\n",
    "X_test_selected = X_test[selected_features]\n",
    "X_val_selected = X_val[selected_features]"
   ]
  },
  {
   "cell_type": "code",
   "execution_count": 21,
   "id": "01d6513c",
   "metadata": {},
   "outputs": [
    {
     "data": {
      "text/plain": [
       "(14530, 11)"
      ]
     },
     "execution_count": 21,
     "metadata": {},
     "output_type": "execute_result"
    }
   ],
   "source": [
    "X_train_selected.shape"
   ]
  },
  {
   "cell_type": "code",
   "execution_count": 22,
   "id": "b716aa9c",
   "metadata": {},
   "outputs": [
    {
     "name": "stdout",
     "output_type": "stream",
     "text": [
      "Classification Report:\n",
      "               precision    recall  f1-score   support\n",
      "\n",
      "           0       0.94      0.91      0.92       525\n",
      "           1       0.83      0.87      0.85       624\n",
      "           2       0.85      0.81      0.83       604\n",
      "           3       0.94      0.96      0.95       714\n",
      "           4       0.99      1.00      1.00       837\n",
      "           5       0.75      0.74      0.74       532\n",
      "           6       0.75      0.75      0.75       523\n",
      "\n",
      "    accuracy                           0.88      4359\n",
      "   macro avg       0.86      0.86      0.86      4359\n",
      "weighted avg       0.88      0.88      0.88      4359\n",
      "\n",
      "\n",
      "Confusion Matrix:\n",
      "[[477  43   0   0   0   3   2]\n",
      " [ 29 544   1   0   0  42   8]\n",
      " [  2   3 492  30   4  24  49]\n",
      " [  0   0  23 682   1   0   8]\n",
      " [  1   0   0   1 834   0   1]\n",
      " [  0  54  18   0   0 395  65]\n",
      " [  0  11  45  10   0  65 392]]\n"
     ]
    }
   ],
   "source": [
    "model = XGBClassifier(random_state = 1, learning_rate = 0.01, max_depth = 6, n_estimators = 1600)\n",
    "model.fit(X_train_selected, y_train)\n",
    "y_pred = model.predict(X_val_selected)\n",
    "class_report1 = classification_report(y_val, y_pred)\n",
    "print(\"Classification Report:\\n\", class_report1)\n",
    "conf_matrix1 = confusion_matrix(y_val, y_pred)\n",
    "print(\"\\nConfusion Matrix:\")\n",
    "print(conf_matrix1)"
   ]
  },
  {
   "cell_type": "code",
   "execution_count": 23,
   "id": "d7e6f91d",
   "metadata": {},
   "outputs": [
    {
     "data": {
      "image/png": "[encoded data removed]",
      "text/plain": [
       "<Figure size 576x432 with 1 Axes>"
      ]
     },
     "metadata": {
      "needs_background": "light"
     },
     "output_type": "display_data"
    }
   ],
   "source": [
    "plt.figure(figsize=(8, 6))\n",
    "sns.heatmap(conf_matrix1, annot=True, fmt='d', cmap='Blues', cbar=False)\n",
    "plt.xlabel('Predicted labels')\n",
    "plt.ylabel('True labels')\n",
    "plt.title('Confusion Matrix')\n",
    "plt.show()"
   ]
  },
  {
   "cell_type": "code",
   "execution_count": null,
   "id": "0ab9de7d",
   "metadata": {},
   "outputs": [],
   "source": []
  }
 ],
 "metadata": {
  "kernelspec": {
   "display_name": "Python 3 (ipykernel)",
   "language": "python",
   "name": "python3"
  },
  "language_info": {
   "codemirror_mode": {
    "name": "ipython",
    "version": 3
   },
   "file_extension": ".py",
   "mimetype": "text/x-python",
   "name": "python",
   "nbconvert_exporter": "python",
   "pygments_lexer": "ipython3",
   "version": "3.8.5"
  }
 },
 "nbformat": 4,
 "nbformat_minor": 5
}
